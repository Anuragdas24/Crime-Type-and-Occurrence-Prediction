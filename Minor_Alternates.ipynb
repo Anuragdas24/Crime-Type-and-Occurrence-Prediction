{
 "cells": [
  {
   "cell_type": "code",
   "execution_count": 1,
   "id": "962de170",
   "metadata": {},
   "outputs": [],
   "source": [
    "import pandas as pd\n",
    "import numpy as np\n",
    "from sklearn.preprocessing import StandardScaler\n",
    "from sklearn.decomposition import PCA\n",
    "from sklearn.model_selection import train_test_split\n",
    "from sklearn.ensemble import RandomForestClassifier\n",
    "from sklearn import metrics\n"
   ]
  },
  {
   "cell_type": "code",
   "execution_count": 2,
   "id": "b2e7bad7",
   "metadata": {},
   "outputs": [],
   "source": [
    "#Load Data\n",
    "crime_data = pd.read_csv('crime.csv')"
   ]
  },
  {
   "cell_type": "code",
   "execution_count": 3,
   "id": "4ee5eda1",
   "metadata": {},
   "outputs": [],
   "source": [
    "crime_data.columns = crime_data.columns.str.lower()"
   ]
  },
  {
   "cell_type": "code",
   "execution_count": 4,
   "id": "4de26f1f",
   "metadata": {},
   "outputs": [],
   "source": [
    "#Define the offense category mapping\n",
    "offense_category_id = {\n",
    "    \"larceny\": 1,\n",
    "    \"public-disorder\": 2,\n",
    "    \"theft-from-motor-vehicle\": 3,\n",
    "    \"auto-theft\": 4,\n",
    "    \"drug-alcohol\": 5,\n",
    "    \"burglary\": 6,\n",
    "    \"other-crimes-against-persons\": 7,\n",
    "    \"aggravated-assault\": 8,\n",
    "    \"white-collar-crime\": 9,\n",
    "    \"sexual-assault\": 10,\n",
    "    \"robbery\": 11,\n",
    "    \"arson\": 12,\n",
    "    \"murder\": 13,\n",
    "    \"traffic-accident\": 14,\n",
    "    \"all-other-crimes\": 15\n",
    "}\n",
    "  "
   ]
  },
  {
   "cell_type": "code",
   "execution_count": 5,
   "id": "e56a23cf",
   "metadata": {},
   "outputs": [],
   "source": [
    "#Replace offense categories with mapped intergers\n",
    "crime_data[\"crime_id\"] = crime_data[\"offense_category_id\"].replace(offense_category_id)"
   ]
  },
  {
   "cell_type": "code",
   "execution_count": 6,
   "id": "b400a17b",
   "metadata": {},
   "outputs": [],
   "source": [
    "# Define columns to drop after PCA\n",
    "columns_to_drop = ['offense_id', 'geo_x', 'geo_y', 'last_occurrence_date', 'incident_address', 'offense_category_id']"
   ]
  },
  {
   "cell_type": "code",
   "execution_count": 7,
   "id": "76390b57",
   "metadata": {},
   "outputs": [],
   "source": [
    "# Drop rows with missing values in columns_to_drop\n",
    "crime_data.dropna(subset=columns_to_drop, inplace=True)"
   ]
  },
  {
   "cell_type": "code",
   "execution_count": 8,
   "id": "15d89337",
   "metadata": {},
   "outputs": [],
   "source": [
    "# Drop non-numeric columns before scaling\n",
    "crime_data_numeric = crime_data.drop(columns=columns_to_drop)"
   ]
  },
  {
   "cell_type": "code",
   "execution_count": 9,
   "id": "d5d74906",
   "metadata": {},
   "outputs": [
    {
     "name": "stdout",
     "output_type": "stream",
     "text": [
      "Non-numeric columns found. Dropping them.\n",
      "Dropped columns: Index(['offense_type_id', 'first_occurrence_date', 'reported_date',\n",
      "       'neighborhood_id'],\n",
      "      dtype='object')\n"
     ]
    }
   ],
   "source": [
    "# Check the data types of columns and drop non-numeric columns\n",
    "non_numeric_columns = crime_data_numeric.select_dtypes(exclude=[np.number]).columns\n",
    "if len(non_numeric_columns) > 0:\n",
    "    print(\"Non-numeric columns found. Dropping them.\")\n",
    "    print(\"Dropped columns:\", non_numeric_columns)\n",
    "    crime_data_numeric = crime_data_numeric.select_dtypes(include=[np.number])"
   ]
  },
  {
   "cell_type": "code",
   "execution_count": 10,
   "id": "d0d76f5e",
   "metadata": {},
   "outputs": [],
   "source": [
    "# Standardize the numeric data\n",
    "scaler = StandardScaler()\n",
    "scaled_data = scaler.fit_transform(crime_data_numeric)"
   ]
  },
  {
   "cell_type": "code",
   "execution_count": 11,
   "id": "e5cd8f3b",
   "metadata": {},
   "outputs": [],
   "source": [
    "# Apply PCA\n",
    "pca = PCA(n_components=0.95)  # Retain components explaining 95% of the variance\n",
    "transformed_data = pca.fit_transform(scaled_data)"
   ]
  },
  {
   "cell_type": "code",
   "execution_count": 12,
   "id": "96ae10e1",
   "metadata": {},
   "outputs": [],
   "source": [
    "# Create DataFrame with transformed data and crime_id column\n",
    "columns_names = [f\"PC{i+1}\" for i in range(transformed_data.shape[1])]\n",
    "transformed_df = pd.DataFrame(transformed_data, columns=columns_names)\n",
    "transformed_df['crime_id'] = crime_data['crime_id'].values"
   ]
  },
  {
   "cell_type": "code",
   "execution_count": 13,
   "id": "11295da4",
   "metadata": {},
   "outputs": [],
   "source": [
    "# Final DataFrame after dropping columns and rows\n",
    "final_df = transformed_df"
   ]
  },
  {
   "cell_type": "code",
   "execution_count": 14,
   "id": "45d515ad",
   "metadata": {},
   "outputs": [],
   "source": [
    "# Split the data for training and testing\n",
    "X = final_df.drop(columns='crime_id')\n",
    "y = final_df['crime_id']\n",
    "X_train, X_test, y_train, y_test = train_test_split(X, y, test_size=0.2, random_state=42)"
   ]
  },
  {
   "cell_type": "code",
   "execution_count": 15,
   "id": "de982fde",
   "metadata": {},
   "outputs": [
    {
     "data": {
      "text/html": [
       "<style>#sk-container-id-1 {\n",
       "  /* Definition of color scheme common for light and dark mode */\n",
       "  --sklearn-color-text: black;\n",
       "  --sklearn-color-line: gray;\n",
       "  /* Definition of color scheme for unfitted estimators */\n",
       "  --sklearn-color-unfitted-level-0: #fff5e6;\n",
       "  --sklearn-color-unfitted-level-1: #f6e4d2;\n",
       "  --sklearn-color-unfitted-level-2: #ffe0b3;\n",
       "  --sklearn-color-unfitted-level-3: chocolate;\n",
       "  /* Definition of color scheme for fitted estimators */\n",
       "  --sklearn-color-fitted-level-0: #f0f8ff;\n",
       "  --sklearn-color-fitted-level-1: #d4ebff;\n",
       "  --sklearn-color-fitted-level-2: #b3dbfd;\n",
       "  --sklearn-color-fitted-level-3: cornflowerblue;\n",
       "\n",
       "  /* Specific color for light theme */\n",
       "  --sklearn-color-text-on-default-background: var(--sg-text-color, var(--theme-code-foreground, var(--jp-content-font-color1, black)));\n",
       "  --sklearn-color-background: var(--sg-background-color, var(--theme-background, var(--jp-layout-color0, white)));\n",
       "  --sklearn-color-border-box: var(--sg-text-color, var(--theme-code-foreground, var(--jp-content-font-color1, black)));\n",
       "  --sklearn-color-icon: #696969;\n",
       "\n",
       "  @media (prefers-color-scheme: dark) {\n",
       "    /* Redefinition of color scheme for dark theme */\n",
       "    --sklearn-color-text-on-default-background: var(--sg-text-color, var(--theme-code-foreground, var(--jp-content-font-color1, white)));\n",
       "    --sklearn-color-background: var(--sg-background-color, var(--theme-background, var(--jp-layout-color0, #111)));\n",
       "    --sklearn-color-border-box: var(--sg-text-color, var(--theme-code-foreground, var(--jp-content-font-color1, white)));\n",
       "    --sklearn-color-icon: #878787;\n",
       "  }\n",
       "}\n",
       "\n",
       "#sk-container-id-1 {\n",
       "  color: var(--sklearn-color-text);\n",
       "}\n",
       "\n",
       "#sk-container-id-1 pre {\n",
       "  padding: 0;\n",
       "}\n",
       "\n",
       "#sk-container-id-1 input.sk-hidden--visually {\n",
       "  border: 0;\n",
       "  clip: rect(1px 1px 1px 1px);\n",
       "  clip: rect(1px, 1px, 1px, 1px);\n",
       "  height: 1px;\n",
       "  margin: -1px;\n",
       "  overflow: hidden;\n",
       "  padding: 0;\n",
       "  position: absolute;\n",
       "  width: 1px;\n",
       "}\n",
       "\n",
       "#sk-container-id-1 div.sk-dashed-wrapped {\n",
       "  border: 1px dashed var(--sklearn-color-line);\n",
       "  margin: 0 0.4em 0.5em 0.4em;\n",
       "  box-sizing: border-box;\n",
       "  padding-bottom: 0.4em;\n",
       "  background-color: var(--sklearn-color-background);\n",
       "}\n",
       "\n",
       "#sk-container-id-1 div.sk-container {\n",
       "  /* jupyter's `normalize.less` sets `[hidden] { display: none; }`\n",
       "     but bootstrap.min.css set `[hidden] { display: none !important; }`\n",
       "     so we also need the `!important` here to be able to override the\n",
       "     default hidden behavior on the sphinx rendered scikit-learn.org.\n",
       "     See: https://github.com/scikit-learn/scikit-learn/issues/21755 */\n",
       "  display: inline-block !important;\n",
       "  position: relative;\n",
       "}\n",
       "\n",
       "#sk-container-id-1 div.sk-text-repr-fallback {\n",
       "  display: none;\n",
       "}\n",
       "\n",
       "div.sk-parallel-item,\n",
       "div.sk-serial,\n",
       "div.sk-item {\n",
       "  /* draw centered vertical line to link estimators */\n",
       "  background-image: linear-gradient(var(--sklearn-color-text-on-default-background), var(--sklearn-color-text-on-default-background));\n",
       "  background-size: 2px 100%;\n",
       "  background-repeat: no-repeat;\n",
       "  background-position: center center;\n",
       "}\n",
       "\n",
       "/* Parallel-specific style estimator block */\n",
       "\n",
       "#sk-container-id-1 div.sk-parallel-item::after {\n",
       "  content: \"\";\n",
       "  width: 100%;\n",
       "  border-bottom: 2px solid var(--sklearn-color-text-on-default-background);\n",
       "  flex-grow: 1;\n",
       "}\n",
       "\n",
       "#sk-container-id-1 div.sk-parallel {\n",
       "  display: flex;\n",
       "  align-items: stretch;\n",
       "  justify-content: center;\n",
       "  background-color: var(--sklearn-color-background);\n",
       "  position: relative;\n",
       "}\n",
       "\n",
       "#sk-container-id-1 div.sk-parallel-item {\n",
       "  display: flex;\n",
       "  flex-direction: column;\n",
       "}\n",
       "\n",
       "#sk-container-id-1 div.sk-parallel-item:first-child::after {\n",
       "  align-self: flex-end;\n",
       "  width: 50%;\n",
       "}\n",
       "\n",
       "#sk-container-id-1 div.sk-parallel-item:last-child::after {\n",
       "  align-self: flex-start;\n",
       "  width: 50%;\n",
       "}\n",
       "\n",
       "#sk-container-id-1 div.sk-parallel-item:only-child::after {\n",
       "  width: 0;\n",
       "}\n",
       "\n",
       "/* Serial-specific style estimator block */\n",
       "\n",
       "#sk-container-id-1 div.sk-serial {\n",
       "  display: flex;\n",
       "  flex-direction: column;\n",
       "  align-items: center;\n",
       "  background-color: var(--sklearn-color-background);\n",
       "  padding-right: 1em;\n",
       "  padding-left: 1em;\n",
       "}\n",
       "\n",
       "\n",
       "/* Toggleable style: style used for estimator/Pipeline/ColumnTransformer box that is\n",
       "clickable and can be expanded/collapsed.\n",
       "- Pipeline and ColumnTransformer use this feature and define the default style\n",
       "- Estimators will overwrite some part of the style using the `sk-estimator` class\n",
       "*/\n",
       "\n",
       "/* Pipeline and ColumnTransformer style (default) */\n",
       "\n",
       "#sk-container-id-1 div.sk-toggleable {\n",
       "  /* Default theme specific background. It is overwritten whether we have a\n",
       "  specific estimator or a Pipeline/ColumnTransformer */\n",
       "  background-color: var(--sklearn-color-background);\n",
       "}\n",
       "\n",
       "/* Toggleable label */\n",
       "#sk-container-id-1 label.sk-toggleable__label {\n",
       "  cursor: pointer;\n",
       "  display: block;\n",
       "  width: 100%;\n",
       "  margin-bottom: 0;\n",
       "  padding: 0.5em;\n",
       "  box-sizing: border-box;\n",
       "  text-align: center;\n",
       "}\n",
       "\n",
       "#sk-container-id-1 label.sk-toggleable__label-arrow:before {\n",
       "  /* Arrow on the left of the label */\n",
       "  content: \"▸\";\n",
       "  float: left;\n",
       "  margin-right: 0.25em;\n",
       "  color: var(--sklearn-color-icon);\n",
       "}\n",
       "\n",
       "#sk-container-id-1 label.sk-toggleable__label-arrow:hover:before {\n",
       "  color: var(--sklearn-color-text);\n",
       "}\n",
       "\n",
       "/* Toggleable content - dropdown */\n",
       "\n",
       "#sk-container-id-1 div.sk-toggleable__content {\n",
       "  max-height: 0;\n",
       "  max-width: 0;\n",
       "  overflow: hidden;\n",
       "  text-align: left;\n",
       "  /* unfitted */\n",
       "  background-color: var(--sklearn-color-unfitted-level-0);\n",
       "}\n",
       "\n",
       "#sk-container-id-1 div.sk-toggleable__content.fitted {\n",
       "  /* fitted */\n",
       "  background-color: var(--sklearn-color-fitted-level-0);\n",
       "}\n",
       "\n",
       "#sk-container-id-1 div.sk-toggleable__content pre {\n",
       "  margin: 0.2em;\n",
       "  border-radius: 0.25em;\n",
       "  color: var(--sklearn-color-text);\n",
       "  /* unfitted */\n",
       "  background-color: var(--sklearn-color-unfitted-level-0);\n",
       "}\n",
       "\n",
       "#sk-container-id-1 div.sk-toggleable__content.fitted pre {\n",
       "  /* unfitted */\n",
       "  background-color: var(--sklearn-color-fitted-level-0);\n",
       "}\n",
       "\n",
       "#sk-container-id-1 input.sk-toggleable__control:checked~div.sk-toggleable__content {\n",
       "  /* Expand drop-down */\n",
       "  max-height: 200px;\n",
       "  max-width: 100%;\n",
       "  overflow: auto;\n",
       "}\n",
       "\n",
       "#sk-container-id-1 input.sk-toggleable__control:checked~label.sk-toggleable__label-arrow:before {\n",
       "  content: \"▾\";\n",
       "}\n",
       "\n",
       "/* Pipeline/ColumnTransformer-specific style */\n",
       "\n",
       "#sk-container-id-1 div.sk-label input.sk-toggleable__control:checked~label.sk-toggleable__label {\n",
       "  color: var(--sklearn-color-text);\n",
       "  background-color: var(--sklearn-color-unfitted-level-2);\n",
       "}\n",
       "\n",
       "#sk-container-id-1 div.sk-label.fitted input.sk-toggleable__control:checked~label.sk-toggleable__label {\n",
       "  background-color: var(--sklearn-color-fitted-level-2);\n",
       "}\n",
       "\n",
       "/* Estimator-specific style */\n",
       "\n",
       "/* Colorize estimator box */\n",
       "#sk-container-id-1 div.sk-estimator input.sk-toggleable__control:checked~label.sk-toggleable__label {\n",
       "  /* unfitted */\n",
       "  background-color: var(--sklearn-color-unfitted-level-2);\n",
       "}\n",
       "\n",
       "#sk-container-id-1 div.sk-estimator.fitted input.sk-toggleable__control:checked~label.sk-toggleable__label {\n",
       "  /* fitted */\n",
       "  background-color: var(--sklearn-color-fitted-level-2);\n",
       "}\n",
       "\n",
       "#sk-container-id-1 div.sk-label label.sk-toggleable__label,\n",
       "#sk-container-id-1 div.sk-label label {\n",
       "  /* The background is the default theme color */\n",
       "  color: var(--sklearn-color-text-on-default-background);\n",
       "}\n",
       "\n",
       "/* On hover, darken the color of the background */\n",
       "#sk-container-id-1 div.sk-label:hover label.sk-toggleable__label {\n",
       "  color: var(--sklearn-color-text);\n",
       "  background-color: var(--sklearn-color-unfitted-level-2);\n",
       "}\n",
       "\n",
       "/* Label box, darken color on hover, fitted */\n",
       "#sk-container-id-1 div.sk-label.fitted:hover label.sk-toggleable__label.fitted {\n",
       "  color: var(--sklearn-color-text);\n",
       "  background-color: var(--sklearn-color-fitted-level-2);\n",
       "}\n",
       "\n",
       "/* Estimator label */\n",
       "\n",
       "#sk-container-id-1 div.sk-label label {\n",
       "  font-family: monospace;\n",
       "  font-weight: bold;\n",
       "  display: inline-block;\n",
       "  line-height: 1.2em;\n",
       "}\n",
       "\n",
       "#sk-container-id-1 div.sk-label-container {\n",
       "  text-align: center;\n",
       "}\n",
       "\n",
       "/* Estimator-specific */\n",
       "#sk-container-id-1 div.sk-estimator {\n",
       "  font-family: monospace;\n",
       "  border: 1px dotted var(--sklearn-color-border-box);\n",
       "  border-radius: 0.25em;\n",
       "  box-sizing: border-box;\n",
       "  margin-bottom: 0.5em;\n",
       "  /* unfitted */\n",
       "  background-color: var(--sklearn-color-unfitted-level-0);\n",
       "}\n",
       "\n",
       "#sk-container-id-1 div.sk-estimator.fitted {\n",
       "  /* fitted */\n",
       "  background-color: var(--sklearn-color-fitted-level-0);\n",
       "}\n",
       "\n",
       "/* on hover */\n",
       "#sk-container-id-1 div.sk-estimator:hover {\n",
       "  /* unfitted */\n",
       "  background-color: var(--sklearn-color-unfitted-level-2);\n",
       "}\n",
       "\n",
       "#sk-container-id-1 div.sk-estimator.fitted:hover {\n",
       "  /* fitted */\n",
       "  background-color: var(--sklearn-color-fitted-level-2);\n",
       "}\n",
       "\n",
       "/* Specification for estimator info (e.g. \"i\" and \"?\") */\n",
       "\n",
       "/* Common style for \"i\" and \"?\" */\n",
       "\n",
       ".sk-estimator-doc-link,\n",
       "a:link.sk-estimator-doc-link,\n",
       "a:visited.sk-estimator-doc-link {\n",
       "  float: right;\n",
       "  font-size: smaller;\n",
       "  line-height: 1em;\n",
       "  font-family: monospace;\n",
       "  background-color: var(--sklearn-color-background);\n",
       "  border-radius: 1em;\n",
       "  height: 1em;\n",
       "  width: 1em;\n",
       "  text-decoration: none !important;\n",
       "  margin-left: 1ex;\n",
       "  /* unfitted */\n",
       "  border: var(--sklearn-color-unfitted-level-1) 1pt solid;\n",
       "  color: var(--sklearn-color-unfitted-level-1);\n",
       "}\n",
       "\n",
       ".sk-estimator-doc-link.fitted,\n",
       "a:link.sk-estimator-doc-link.fitted,\n",
       "a:visited.sk-estimator-doc-link.fitted {\n",
       "  /* fitted */\n",
       "  border: var(--sklearn-color-fitted-level-1) 1pt solid;\n",
       "  color: var(--sklearn-color-fitted-level-1);\n",
       "}\n",
       "\n",
       "/* On hover */\n",
       "div.sk-estimator:hover .sk-estimator-doc-link:hover,\n",
       ".sk-estimator-doc-link:hover,\n",
       "div.sk-label-container:hover .sk-estimator-doc-link:hover,\n",
       ".sk-estimator-doc-link:hover {\n",
       "  /* unfitted */\n",
       "  background-color: var(--sklearn-color-unfitted-level-3);\n",
       "  color: var(--sklearn-color-background);\n",
       "  text-decoration: none;\n",
       "}\n",
       "\n",
       "div.sk-estimator.fitted:hover .sk-estimator-doc-link.fitted:hover,\n",
       ".sk-estimator-doc-link.fitted:hover,\n",
       "div.sk-label-container:hover .sk-estimator-doc-link.fitted:hover,\n",
       ".sk-estimator-doc-link.fitted:hover {\n",
       "  /* fitted */\n",
       "  background-color: var(--sklearn-color-fitted-level-3);\n",
       "  color: var(--sklearn-color-background);\n",
       "  text-decoration: none;\n",
       "}\n",
       "\n",
       "/* Span, style for the box shown on hovering the info icon */\n",
       ".sk-estimator-doc-link span {\n",
       "  display: none;\n",
       "  z-index: 9999;\n",
       "  position: relative;\n",
       "  font-weight: normal;\n",
       "  right: .2ex;\n",
       "  padding: .5ex;\n",
       "  margin: .5ex;\n",
       "  width: min-content;\n",
       "  min-width: 20ex;\n",
       "  max-width: 50ex;\n",
       "  color: var(--sklearn-color-text);\n",
       "  box-shadow: 2pt 2pt 4pt #999;\n",
       "  /* unfitted */\n",
       "  background: var(--sklearn-color-unfitted-level-0);\n",
       "  border: .5pt solid var(--sklearn-color-unfitted-level-3);\n",
       "}\n",
       "\n",
       ".sk-estimator-doc-link.fitted span {\n",
       "  /* fitted */\n",
       "  background: var(--sklearn-color-fitted-level-0);\n",
       "  border: var(--sklearn-color-fitted-level-3);\n",
       "}\n",
       "\n",
       ".sk-estimator-doc-link:hover span {\n",
       "  display: block;\n",
       "}\n",
       "\n",
       "/* \"?\"-specific style due to the `<a>` HTML tag */\n",
       "\n",
       "#sk-container-id-1 a.estimator_doc_link {\n",
       "  float: right;\n",
       "  font-size: 1rem;\n",
       "  line-height: 1em;\n",
       "  font-family: monospace;\n",
       "  background-color: var(--sklearn-color-background);\n",
       "  border-radius: 1rem;\n",
       "  height: 1rem;\n",
       "  width: 1rem;\n",
       "  text-decoration: none;\n",
       "  /* unfitted */\n",
       "  color: var(--sklearn-color-unfitted-level-1);\n",
       "  border: var(--sklearn-color-unfitted-level-1) 1pt solid;\n",
       "}\n",
       "\n",
       "#sk-container-id-1 a.estimator_doc_link.fitted {\n",
       "  /* fitted */\n",
       "  border: var(--sklearn-color-fitted-level-1) 1pt solid;\n",
       "  color: var(--sklearn-color-fitted-level-1);\n",
       "}\n",
       "\n",
       "/* On hover */\n",
       "#sk-container-id-1 a.estimator_doc_link:hover {\n",
       "  /* unfitted */\n",
       "  background-color: var(--sklearn-color-unfitted-level-3);\n",
       "  color: var(--sklearn-color-background);\n",
       "  text-decoration: none;\n",
       "}\n",
       "\n",
       "#sk-container-id-1 a.estimator_doc_link.fitted:hover {\n",
       "  /* fitted */\n",
       "  background-color: var(--sklearn-color-fitted-level-3);\n",
       "}\n",
       "</style><div id=\"sk-container-id-1\" class=\"sk-top-container\"><div class=\"sk-text-repr-fallback\"><pre>RandomForestClassifier(random_state=42)</pre><b>In a Jupyter environment, please rerun this cell to show the HTML representation or trust the notebook. <br />On GitHub, the HTML representation is unable to render, please try loading this page with nbviewer.org.</b></div><div class=\"sk-container\" hidden><div class=\"sk-item\"><div class=\"sk-estimator fitted sk-toggleable\"><input class=\"sk-toggleable__control sk-hidden--visually\" id=\"sk-estimator-id-1\" type=\"checkbox\" checked><label for=\"sk-estimator-id-1\" class=\"sk-toggleable__label fitted sk-toggleable__label-arrow fitted\">&nbsp;&nbsp;RandomForestClassifier<a class=\"sk-estimator-doc-link fitted\" rel=\"noreferrer\" target=\"_blank\" href=\"https://scikit-learn.org/1.5/modules/generated/sklearn.ensemble.RandomForestClassifier.html\">?<span>Documentation for RandomForestClassifier</span></a><span class=\"sk-estimator-doc-link fitted\">i<span>Fitted</span></span></label><div class=\"sk-toggleable__content fitted\"><pre>RandomForestClassifier(random_state=42)</pre></div> </div></div></div></div>"
      ],
      "text/plain": [
       "RandomForestClassifier(random_state=42)"
      ]
     },
     "execution_count": 15,
     "metadata": {},
     "output_type": "execute_result"
    }
   ],
   "source": [
    "# Train Random Forest classifier\n",
    "rfc = RandomForestClassifier(n_estimators=100, random_state=42)\n",
    "rfc.fit(X_train, y_train)"
   ]
  },
  {
   "cell_type": "code",
   "execution_count": 16,
   "id": "ff6b5f4a",
   "metadata": {},
   "outputs": [],
   "source": [
    "# Predictions\n",
    "y_pred = rfc.predict(X_test)"
   ]
  },
  {
   "cell_type": "code",
   "execution_count": 17,
   "id": "5ddc1579",
   "metadata": {},
   "outputs": [],
   "source": [
    "# Evaluate the model\n",
    "accuracy = metrics.accuracy_score(y_test, y_pred)\n",
    "precision = metrics.precision_score(y_test, y_pred, average='weighted')\n",
    "recall = metrics.recall_score(y_test, y_pred, average='weighted')\n",
    "f1_score = metrics.f1_score(y_test, y_pred, average='weighted')\n"
   ]
  },
  {
   "cell_type": "code",
   "execution_count": 18,
   "id": "2ae9ff17",
   "metadata": {},
   "outputs": [
    {
     "name": "stdout",
     "output_type": "stream",
     "text": [
      "Accuracy: 99.99104156712852\n",
      "Precision: 99.99104350980224\n",
      "Recall: 99.99104156712852\n",
      "F1 Score: 99.9910404144529\n"
     ]
    }
   ],
   "source": [
    "print(\"Accuracy:\", accuracy * 100)\n",
    "print(\"Precision:\", precision * 100)\n",
    "print(\"Recall:\", recall * 100)\n",
    "print(\"F1 Score:\", f1_score * 100)"
   ]
  },
  {
   "cell_type": "code",
   "execution_count": 43,
   "id": "12899bb3",
   "metadata": {},
   "outputs": [],
   "source": [
    "import pandas as pd\n",
    "import numpy as np\n",
    "from sklearn.preprocessing import StandardScaler\n",
    "from sklearn.decomposition import PCA\n",
    "from sklearn.model_selection import train_test_split, GridSearchCV\n",
    "from sklearn.ensemble import RandomForestClassifier\n",
    "from sklearn import metrics\n",
    "from tensorflow.keras.models import Sequential\n",
    "from tensorflow.keras.layers import Dense, Dropout\n",
    "from tensorflow.keras.wrappers.scikit_learn import KerasClassifier\n"
   ]
  },
  {
   "cell_type": "code",
   "execution_count": 46,
   "id": "d91e68eb",
   "metadata": {},
   "outputs": [],
   "source": [
    "# Load the data\n",
    "crime_data = pd.read_csv('crime.csv')\n",
    "crime_data.columns = crime_data.columns.str.lower()"
   ]
  },
  {
   "cell_type": "code",
   "execution_count": 47,
   "id": "afba2a2c",
   "metadata": {},
   "outputs": [],
   "source": [
    "# Define the offense category mapping\n",
    "offense_category_id = {\n",
    "    \"larceny\": 1,\n",
    "    \"public-disorder\": 2,\n",
    "    \"theft-from-motor-vehicle\": 3,\n",
    "    \"auto-theft\": 4,\n",
    "    \"drug-alcohol\": 5,\n",
    "    \"burglary\": 6,\n",
    "    \"other-crimes-against-persons\": 7,\n",
    "    \"aggravated-assault\": 8,\n",
    "    \"white-collar-crime\": 9,\n",
    "    \"sexual-assault\": 10,\n",
    "    \"robbery\": 11,\n",
    "    \"arson\": 12,\n",
    "    \"murder\": 13,\n",
    "    \"traffic-accident\": 14,\n",
    "    \"all-other-crimes\": 15\n",
    "}"
   ]
  },
  {
   "cell_type": "code",
   "execution_count": 48,
   "id": "78d9d4b4",
   "metadata": {},
   "outputs": [],
   "source": [
    "# Replace offense categories with mapped integers\n",
    "crime_data[\"crime_id\"] = crime_data[\"offense_category_id\"].replace(offense_category_id)"
   ]
  },
  {
   "cell_type": "code",
   "execution_count": 49,
   "id": "c7e15e50",
   "metadata": {},
   "outputs": [],
   "source": [
    "# Define columns to drop after PCA\n",
    "columns_to_drop = ['offense_id', 'geo_x', 'geo_y', 'last_occurrence_date', 'incident_address', 'offense_category_id']"
   ]
  },
  {
   "cell_type": "code",
   "execution_count": 50,
   "id": "00e1cbb1",
   "metadata": {},
   "outputs": [],
   "source": [
    "# Drop rows with missing values in columns_to_drop\n",
    "crime_data.dropna(subset=columns_to_drop, inplace=True)"
   ]
  },
  {
   "cell_type": "code",
   "execution_count": 51,
   "id": "5f530d74",
   "metadata": {},
   "outputs": [],
   "source": [
    "# Drop non-numeric columns before scaling\n",
    "crime_data_numeric = crime_data.drop(columns=columns_to_drop)"
   ]
  },
  {
   "cell_type": "code",
   "execution_count": 52,
   "id": "217f0509",
   "metadata": {},
   "outputs": [
    {
     "name": "stdout",
     "output_type": "stream",
     "text": [
      "Non-numeric columns found. Dropping them.\n",
      "Dropped columns: Index(['offense_type_id', 'first_occurrence_date', 'reported_date',\n",
      "       'neighborhood_id'],\n",
      "      dtype='object')\n"
     ]
    }
   ],
   "source": [
    "# Check the data types of columns and drop non-numeric columns\n",
    "non_numeric_columns = crime_data_numeric.select_dtypes(exclude=[np.number]).columns\n",
    "if len(non_numeric_columns) > 0:\n",
    "    print(\"Non-numeric columns found. Dropping them.\")\n",
    "    print(\"Dropped columns:\", non_numeric_columns)\n",
    "    crime_data_numeric = crime_data_numeric.select_dtypes(include=[np.number])"
   ]
  },
  {
   "cell_type": "code",
   "execution_count": 53,
   "id": "97d449c4",
   "metadata": {},
   "outputs": [],
   "source": [
    "# Standardize the numeric data\n",
    "scaler = StandardScaler()\n",
    "scaled_data = scaler.fit_transform(crime_data_numeric)"
   ]
  },
  {
   "cell_type": "code",
   "execution_count": 54,
   "id": "8db9ccdd",
   "metadata": {},
   "outputs": [],
   "source": [
    "# Apply PCA\n",
    "pca = PCA(n_components=0.95)  # Retain components explaining 95% of the variance\n",
    "transformed_data = pca.fit_transform(scaled_data)"
   ]
  },
  {
   "cell_type": "code",
   "execution_count": 55,
   "id": "76f9f6a5",
   "metadata": {},
   "outputs": [],
   "source": [
    "# Create DataFrame with transformed data and crime_id column\n",
    "columns_names = [f\"PC{i+1}\" for i in range(transformed_data.shape[1])]\n",
    "transformed_df = pd.DataFrame(transformed_data, columns=columns_names)\n",
    "transformed_df['crime_id'] = crime_data['crime_id'].values"
   ]
  },
  {
   "cell_type": "code",
   "execution_count": 56,
   "id": "9871cacb",
   "metadata": {},
   "outputs": [],
   "source": [
    "# Final DataFrame after dropping columns and rows\n",
    "final_df = transformed_df"
   ]
  },
  {
   "cell_type": "code",
   "execution_count": 57,
   "id": "1a702b09",
   "metadata": {},
   "outputs": [],
   "source": [
    "# Split the data for training and testing\n",
    "X = final_df.drop(columns='crime_id')\n",
    "y = final_df['crime_id']\n",
    "X_train, X_test, y_train, y_test = train_test_split(X, y, test_size=0.2, random_state=42)"
   ]
  },
  {
   "cell_type": "code",
   "execution_count": 58,
   "id": "d9f0d9a9",
   "metadata": {},
   "outputs": [],
   "source": [
    "# Define the TensorFlow model with dropout layers\n",
    "def create_model(dropout_rate=0.2):\n",
    "    model = Sequential([\n",
    "        Dense(64, activation='relu', input_shape=(X_train.shape[1],)),\n",
    "        Dropout(dropout_rate),\n",
    "        Dense(64, activation='relu'),\n",
    "        Dropout(dropout_rate),\n",
    "        Dense(15, activation='softmax')  # Assuming 15 crime categories\n",
    "    ])\n",
    "    model.compile(optimizer='adam',\n",
    "                  loss='sparse_categorical_crossentropy',\n",
    "                  metrics=['accuracy'])\n",
    "    return model"
   ]
  },
  {
   "cell_type": "code",
   "execution_count": 59,
   "id": "e4fa580c",
   "metadata": {},
   "outputs": [
    {
     "name": "stderr",
     "output_type": "stream",
     "text": [
      "C:\\Users\\KIIT\\AppData\\Local\\Temp\\ipykernel_26648\\3925283261.py:2: DeprecationWarning: KerasClassifier is deprecated, use Sci-Keras (https://github.com/adriangb/scikeras) instead. See https://www.adriangb.com/scikeras/stable/migration.html for help migrating.\n",
      "  model = KerasClassifier(build_fn=create_model, verbose=0)\n"
     ]
    }
   ],
   "source": [
    "# Wrap Keras model for use with scikit-learn\n",
    "model = KerasClassifier(build_fn=create_model, verbose=0)"
   ]
  },
  {
   "cell_type": "code",
   "execution_count": 60,
   "id": "59663d71",
   "metadata": {},
   "outputs": [],
   "source": [
    "# Define hyperparameters grid for grid search\n",
    "param_grid = {\n",
    "    'dropout_rate': [0.1, 0.2, 0.3],\n",
    "    'batch_size': [32, 64],\n",
    "    'epochs': [10, 15]\n",
    "}\n"
   ]
  },
  {
   "cell_type": "code",
   "execution_count": 61,
   "id": "0a40ed5f",
   "metadata": {},
   "outputs": [
    {
     "name": "stdout",
     "output_type": "stream",
     "text": [
      "Fitting 3 folds for each of 12 candidates, totalling 36 fits\n",
      "[CV] END .........batch_size=32, dropout_rate=0.1, epochs=10; total time=  59.6s\n",
      "[CV] END .........batch_size=32, dropout_rate=0.1, epochs=10; total time= 1.0min\n",
      "[CV] END .........batch_size=32, dropout_rate=0.1, epochs=10; total time= 1.0min\n",
      "[CV] END .........batch_size=32, dropout_rate=0.1, epochs=15; total time= 1.5min\n",
      "[CV] END .........batch_size=32, dropout_rate=0.1, epochs=15; total time= 1.5min\n",
      "[CV] END .........batch_size=32, dropout_rate=0.1, epochs=15; total time= 1.5min\n",
      "[CV] END .........batch_size=32, dropout_rate=0.2, epochs=10; total time= 1.0min\n",
      "[CV] END .........batch_size=32, dropout_rate=0.2, epochs=10; total time= 1.0min\n",
      "[CV] END .........batch_size=32, dropout_rate=0.2, epochs=10; total time= 1.0min\n",
      "[CV] END .........batch_size=32, dropout_rate=0.2, epochs=15; total time= 1.5min\n",
      "[CV] END .........batch_size=32, dropout_rate=0.2, epochs=15; total time= 1.5min\n",
      "[CV] END .........batch_size=32, dropout_rate=0.2, epochs=15; total time= 1.5min\n",
      "[CV] END .........batch_size=32, dropout_rate=0.3, epochs=10; total time= 1.0min\n",
      "[CV] END .........batch_size=32, dropout_rate=0.3, epochs=10; total time= 1.0min\n",
      "[CV] END .........batch_size=32, dropout_rate=0.3, epochs=10; total time= 1.0min\n",
      "[CV] END .........batch_size=32, dropout_rate=0.3, epochs=15; total time= 1.5min\n",
      "[CV] END .........batch_size=32, dropout_rate=0.3, epochs=15; total time= 1.5min\n",
      "[CV] END .........batch_size=32, dropout_rate=0.3, epochs=15; total time= 1.5min\n",
      "[CV] END .........batch_size=64, dropout_rate=0.1, epochs=10; total time=  35.7s\n",
      "[CV] END .........batch_size=64, dropout_rate=0.1, epochs=10; total time=  35.7s\n",
      "[CV] END .........batch_size=64, dropout_rate=0.1, epochs=10; total time=  35.8s\n",
      "[CV] END .........batch_size=64, dropout_rate=0.1, epochs=15; total time=  52.5s\n",
      "[CV] END .........batch_size=64, dropout_rate=0.1, epochs=15; total time=  52.3s\n",
      "[CV] END .........batch_size=64, dropout_rate=0.1, epochs=15; total time=  52.6s\n",
      "[CV] END .........batch_size=64, dropout_rate=0.2, epochs=10; total time=  36.0s\n",
      "[CV] END .........batch_size=64, dropout_rate=0.2, epochs=10; total time=  35.3s\n",
      "[CV] END .........batch_size=64, dropout_rate=0.2, epochs=10; total time=  35.6s\n",
      "[CV] END .........batch_size=64, dropout_rate=0.2, epochs=15; total time=  52.3s\n",
      "[CV] END .........batch_size=64, dropout_rate=0.2, epochs=15; total time=  51.9s\n",
      "[CV] END .........batch_size=64, dropout_rate=0.2, epochs=15; total time=  52.0s\n",
      "[CV] END .........batch_size=64, dropout_rate=0.3, epochs=10; total time=  35.5s\n",
      "[CV] END .........batch_size=64, dropout_rate=0.3, epochs=10; total time=  35.6s\n",
      "[CV] END .........batch_size=64, dropout_rate=0.3, epochs=10; total time=  35.9s\n",
      "[CV] END .........batch_size=64, dropout_rate=0.3, epochs=15; total time=  52.2s\n",
      "[CV] END .........batch_size=64, dropout_rate=0.3, epochs=15; total time=  51.5s\n",
      "[CV] END .........batch_size=64, dropout_rate=0.3, epochs=15; total time=  53.5s\n"
     ]
    }
   ],
   "source": [
    "# Perform grid search\n",
    "grid = GridSearchCV(estimator=model, param_grid=param_grid, cv=3, verbose=2)\n",
    "grid_result = grid.fit(X_train, y_train)\n",
    "\n"
   ]
  },
  {
   "cell_type": "code",
   "execution_count": 62,
   "id": "81a953f9",
   "metadata": {},
   "outputs": [
    {
     "name": "stdout",
     "output_type": "stream",
     "text": [
      "Best: 0.999858 using {'batch_size': 32, 'dropout_rate': 0.2, 'epochs': 15}\n"
     ]
    }
   ],
   "source": [
    "# Print best hyperparameters\n",
    "print(\"Best: %f using %s\" % (grid_result.best_score_, grid_result.best_params_))"
   ]
  },
  {
   "cell_type": "code",
   "execution_count": 63,
   "id": "fd11537f",
   "metadata": {},
   "outputs": [
    {
     "name": "stdout",
     "output_type": "stream",
     "text": [
      "1047/1047 [==============================] - 2s 2ms/step\n"
     ]
    }
   ],
   "source": [
    "# Evaluate the best model\n",
    "best_model = grid_result.best_estimator_\n",
    "y_pred = best_model.predict(X_test)"
   ]
  },
  {
   "cell_type": "code",
   "execution_count": 64,
   "id": "fc391dcb",
   "metadata": {},
   "outputs": [],
   "source": [
    "# Evaluate the model\n",
    "accuracy = metrics.accuracy_score(y_test, y_pred)\n",
    "precision = metrics.precision_score(y_test, y_pred, average='weighted')\n",
    "recall = metrics.recall_score(y_test, y_pred, average='weighted')\n",
    "f1_score = metrics.f1_score(y_test, y_pred, average='weighted')"
   ]
  },
  {
   "cell_type": "code",
   "execution_count": 65,
   "id": "39949c5d",
   "metadata": {},
   "outputs": [
    {
     "name": "stdout",
     "output_type": "stream",
     "text": [
      "Accuracy: 99.99402771141902\n",
      "Precision: 99.99402902969257\n",
      "Recall: 99.99402771141902\n",
      "F1 Score: 99.99402657212103\n"
     ]
    }
   ],
   "source": [
    "print(\"Accuracy:\", accuracy * 100)\n",
    "print(\"Precision:\", precision * 100)\n",
    "print(\"Recall:\", recall * 100)\n",
    "print(\"F1 Score:\", f1_score * 100)"
   ]
  },
  {
   "cell_type": "code",
   "execution_count": null,
   "id": "56b28885",
   "metadata": {},
   "outputs": [],
   "source": []
  }
 ],
 "metadata": {
  "kernelspec": {
   "display_name": "Python 3 (ipykernel)",
   "language": "python",
   "name": "python3"
  },
  "language_info": {
   "codemirror_mode": {
    "name": "ipython",
    "version": 3
   },
   "file_extension": ".py",
   "mimetype": "text/x-python",
   "name": "python",
   "nbconvert_exporter": "python",
   "pygments_lexer": "ipython3",
   "version": "3.11.5"
  }
 },
 "nbformat": 4,
 "nbformat_minor": 5
}
